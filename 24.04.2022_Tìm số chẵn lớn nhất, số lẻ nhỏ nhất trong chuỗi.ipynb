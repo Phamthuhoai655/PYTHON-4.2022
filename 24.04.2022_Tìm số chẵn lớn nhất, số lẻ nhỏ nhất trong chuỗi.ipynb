{
 "cells": [
  {
   "cell_type": "code",
   "execution_count": 4,
   "id": "e13c9510",
   "metadata": {},
   "outputs": [
    {
     "name": "stdout",
     "output_type": "stream",
     "text": [
      "Số chẵn lớn nhất, số lẻ nhỏ nhất là:  (56, 25)\n"
     ]
    }
   ],
   "source": [
    "def timso(day):\n",
    "    '''Tìm số chẵn lớn nhất và số lẻ nhỏ nhất trong chuỗi'''\n",
    "    day = day.split()\n",
    "    answer = False\n",
    "    dayso = ''\n",
    "    h = 0\n",
    "    m = 0\n",
    "    for i in day:\n",
    "        if i.isdigit():\n",
    "            dayso += i + ' '        \n",
    "\n",
    "    dayso_1 = dayso.split()\n",
    "\n",
    "    for j in dayso_1:\n",
    "        if int(j)%2 == 0:\n",
    "            if int(j)>=h:\n",
    "                h = int(j)               \n",
    "        elif int(j)%2 != 0:\n",
    "            if int(j)>m:\n",
    "                m = int(j)\n",
    "    if str(h) in dayso_1:\n",
    "        h = h\n",
    "    else:\n",
    "        h = '-'\n",
    "    x = m\n",
    "    if x != 0:\n",
    "        for j in dayso_1:\n",
    "            if int(j)%2 == 1:\n",
    "                if int(j)<=x:\n",
    "                    x = int(j)\n",
    "    else:\n",
    "        x = '-'\n",
    "    return h,x\n",
    "\n",
    "text =\"jiojo 25 16 2v 4 89 56\"\n",
    "print('Số chẵn lớn nhất, số lẻ nhỏ nhất là: ', timso(text))\n",
    "\n",
    " "
   ]
  },
  {
   "cell_type": "code",
   "execution_count": null,
   "id": "7dee7349",
   "metadata": {},
   "outputs": [],
   "source": []
  }
 ],
 "metadata": {
  "kernelspec": {
   "display_name": "Python 3 (ipykernel)",
   "language": "python",
   "name": "python3"
  },
  "language_info": {
   "codemirror_mode": {
    "name": "ipython",
    "version": 3
   },
   "file_extension": ".py",
   "mimetype": "text/x-python",
   "name": "python",
   "nbconvert_exporter": "python",
   "pygments_lexer": "ipython3",
   "version": "3.9.7"
  }
 },
 "nbformat": 4,
 "nbformat_minor": 5
}
