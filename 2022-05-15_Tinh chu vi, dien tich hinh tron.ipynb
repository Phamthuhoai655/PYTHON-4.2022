{
 "cells": [
  {
   "cell_type": "code",
   "execution_count": 1,
   "id": "4c7b1374",
   "metadata": {},
   "outputs": [],
   "source": [
    "import math\n",
    "class Hinhtron:\n",
    "    def __init__(self, r):\n",
    "        self.r = r\n",
    "    def chuvi(self):\n",
    "        if self.r > 0:\n",
    "            return 2*self.r*math.pi\n",
    "        else: \n",
    "            return None\n",
    "    \n",
    "    def dientich(self):\n",
    "        if self.r > 0:\n",
    "            return math.pi*self.r*self.r\n",
    "        else:\n",
    "            return None\n",
    "\n",
    "    \n",
    "        \n",
    "            "
   ]
  },
  {
   "cell_type": "code",
   "execution_count": 2,
   "id": "795bbff6",
   "metadata": {},
   "outputs": [
    {
     "name": "stdout",
     "output_type": "stream",
     "text": [
      "Chu vi hinh tron la:  94.24777960769379\n",
      "Dien tich hinh tron la:  706.8583470577034\n"
     ]
    }
   ],
   "source": [
    "tinh = Hinhtron(15)\n",
    "C = tinh.chuvi()\n",
    "print(\"Chu vi hinh tron la: \", C)\n",
    "S = tinh.dientich()\n",
    "print(\"Dien tich hinh tron la: \", S)\n"
   ]
  },
  {
   "cell_type": "code",
   "execution_count": null,
   "id": "52c59d7a",
   "metadata": {},
   "outputs": [],
   "source": []
  }
 ],
 "metadata": {
  "kernelspec": {
   "display_name": "Python 3 (ipykernel)",
   "language": "python",
   "name": "python3"
  },
  "language_info": {
   "codemirror_mode": {
    "name": "ipython",
    "version": 3
   },
   "file_extension": ".py",
   "mimetype": "text/x-python",
   "name": "python",
   "nbconvert_exporter": "python",
   "pygments_lexer": "ipython3",
   "version": "3.9.7"
  }
 },
 "nbformat": 4,
 "nbformat_minor": 5
}
