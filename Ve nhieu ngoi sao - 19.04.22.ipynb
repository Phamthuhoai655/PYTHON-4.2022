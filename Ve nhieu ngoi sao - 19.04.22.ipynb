{
 "cells": [
  {
   "cell_type": "code",
   "execution_count": 2,
   "id": "10c5dbd5",
   "metadata": {},
   "outputs": [],
   "source": [
    "import turtle\n",
    "h = turtle.Turtle()\n",
    "h.pensize(1)\n",
    "h.speed(5)\n",
    "N = 5\n",
    "h.penup()\n",
    "h.backward(300)\n",
    "h.pendown()\n",
    "for j in range(0,N):\n",
    "    h.penup()\n",
    "    h.forward(100)\n",
    "    h.pendown()\n",
    "    for i in range(0,5):\n",
    "        h.forward(100)\n",
    "        h.right(144)\n",
    "turtle.done()"
   ]
  },
  {
   "cell_type": "code",
   "execution_count": null,
   "id": "379900cd",
   "metadata": {},
   "outputs": [],
   "source": []
  },
  {
   "cell_type": "code",
   "execution_count": null,
   "id": "94ed0383",
   "metadata": {},
   "outputs": [],
   "source": []
  },
  {
   "cell_type": "code",
   "execution_count": null,
   "id": "eaeb363e",
   "metadata": {},
   "outputs": [],
   "source": []
  }
 ],
 "metadata": {
  "kernelspec": {
   "display_name": "Python 3 (ipykernel)",
   "language": "python",
   "name": "python3"
  },
  "language_info": {
   "codemirror_mode": {
    "name": "ipython",
    "version": 3
   },
   "file_extension": ".py",
   "mimetype": "text/x-python",
   "name": "python",
   "nbconvert_exporter": "python",
   "pygments_lexer": "ipython3",
   "version": "3.9.7"
  }
 },
 "nbformat": 4,
 "nbformat_minor": 5
}
