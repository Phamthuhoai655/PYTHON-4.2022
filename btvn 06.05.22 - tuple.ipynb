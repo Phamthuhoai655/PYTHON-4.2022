{
 "cells": [
  {
   "cell_type": "code",
   "execution_count": 1,
   "id": "30a4e67c",
   "metadata": {},
   "outputs": [
    {
     "name": "stdout",
     "output_type": "stream",
     "text": [
      "(1, 1, 2, 4, 5, 10)\n",
      "[1, 1, 2, 4, 5, 10]\n",
      "(2, 2, 4, 8, 10, 20)\n",
      "Cac phan tu co trong ca 2 tuple la:  [2, 4, 10]\n"
     ]
    }
   ],
   "source": [
    "# Tim phan tu chung trong 2 tuple:\n",
    "tuple_1 = (1, 1, 2, 4, 5, 10)\n",
    "print(tuple_1)\n",
    "h = list(tuple_1)\n",
    "print(h)\n",
    "k = []\n",
    "for i in h:\n",
    "    num = i * 2\n",
    "    k.append(num)\n",
    "    \n",
    "tuple_2 = tuple(k)\n",
    "print(tuple_2)\n",
    "chung = []\n",
    "    \n",
    "for i in h:\n",
    "    if i in k:\n",
    "        chung.append(i)\n",
    "print(\"Cac phan tu co trong ca 2 tuple la: \", chung)"
   ]
  },
  {
   "cell_type": "code",
   "execution_count": 3,
   "id": "c27e0ebc",
   "metadata": {},
   "outputs": [
    {
     "name": "stdout",
     "output_type": "stream",
     "text": [
      "Nhap: 2\n",
      "Nhap: 2\n",
      "[[3, 4], [4, 3]]\n",
      "Gia tri trung binh cua cac phan tu cua list_A la:  [3.5, 3.5]\n"
     ]
    }
   ],
   "source": [
    "import random\n",
    "list_A = []\n",
    "m = int(input(\"Nhap: \"))\n",
    "n = int(input(\"Nhap: \"))\n",
    "\n",
    "for i in range(m):\n",
    "    list_B = []\n",
    "    for j in range(n):\n",
    "        num = random.choice([i for i in range(10)])\n",
    "        list_B.append(num)\n",
    "    list_A.append(list_B) \n",
    "    \n",
    "        \n",
    "print(list_A)\n",
    "trungbinh = []\n",
    "for i in list_A:\n",
    "    tong = 0\n",
    "    for j in i:\n",
    "        tong += j\n",
    "        tb = tong/n\n",
    "    trungbinh.append(tb)\n",
    "print(\"Gia tri trung binh cua cac phan tu cua list_A la: \",trungbinh)\n",
    "\n",
    "        "
   ]
  },
  {
   "cell_type": "code",
   "execution_count": null,
   "id": "d7771772",
   "metadata": {},
   "outputs": [],
   "source": []
  }
 ],
 "metadata": {
  "kernelspec": {
   "display_name": "Python 3 (ipykernel)",
   "language": "python",
   "name": "python3"
  },
  "language_info": {
   "codemirror_mode": {
    "name": "ipython",
    "version": 3
   },
   "file_extension": ".py",
   "mimetype": "text/x-python",
   "name": "python",
   "nbconvert_exporter": "python",
   "pygments_lexer": "ipython3",
   "version": "3.9.7"
  }
 },
 "nbformat": 4,
 "nbformat_minor": 5
}
