{
 "cells": [
  {
   "cell_type": "code",
   "execution_count": 1,
   "id": "aba6c923",
   "metadata": {},
   "outputs": [],
   "source": [
    "import math\n",
    "class ptbac2:\n",
    "    #1: pt vo so nghiem\n",
    "    #0: pt vo nghiem\n",
    "    #2: pt co 1 nghiem kep\n",
    "    #3: pt co 2 nghiem x1 va x2\n",
    "    \n",
    "    \n",
    "    def __init__(self, a, b, c):\n",
    "        self.a = a\n",
    "        self.b = b\n",
    "        self.c = c\n",
    "       \n",
    "        \n",
    "    def timnghiem(self):\n",
    "        if self.a == 0:\n",
    "            if self.b == 0:\n",
    "                if self.c == 0:\n",
    "                    h = 1\n",
    "                    x1 = None\n",
    "                    x2 = None\n",
    "                else:\n",
    "                    h = 0\n",
    "                    x1 = None\n",
    "                    x2 = None\n",
    "            else:\n",
    "                h = 2\n",
    "                x1 = -self.c/self.b\n",
    "                x2 = -self.c/self.b\n",
    "                \n",
    "        else:\n",
    "            d = (self.b*self.b - 4*self.a*self.c)\n",
    "            if d >= 0:\n",
    "                h = 3\n",
    "                x1 = (-self.b-math.sqrt(d))/(2*self.a)\n",
    "                x2 = (-self.b+math.sqrt(d))/(2*self.a)\n",
    "            else:\n",
    "                h = 0\n",
    "                x1 = None\n",
    "                x2 = None\n",
    "        return h, x1, x2\n",
    "                \n",
    "        "
   ]
  },
  {
   "cell_type": "code",
   "execution_count": 2,
   "id": "d20b3e5e",
   "metadata": {},
   "outputs": [
    {
     "name": "stdout",
     "output_type": "stream",
     "text": [
      "(0, None, None)\n"
     ]
    }
   ],
   "source": [
    "pt = ptbac2(0, 0, 5)\n",
    "nghiem = pt.timnghiem()\n",
    "print(nghiem)"
   ]
  },
  {
   "cell_type": "code",
   "execution_count": null,
   "id": "744675b3",
   "metadata": {},
   "outputs": [],
   "source": []
  }
 ],
 "metadata": {
  "kernelspec": {
   "display_name": "Python 3 (ipykernel)",
   "language": "python",
   "name": "python3"
  },
  "language_info": {
   "codemirror_mode": {
    "name": "ipython",
    "version": 3
   },
   "file_extension": ".py",
   "mimetype": "text/x-python",
   "name": "python",
   "nbconvert_exporter": "python",
   "pygments_lexer": "ipython3",
   "version": "3.9.7"
  }
 },
 "nbformat": 4,
 "nbformat_minor": 5
}
