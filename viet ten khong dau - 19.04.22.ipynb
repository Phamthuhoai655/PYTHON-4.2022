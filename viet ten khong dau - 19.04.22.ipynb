{
 "cells": [
  {
   "cell_type": "code",
   "execution_count": 13,
   "id": "c11fa301",
   "metadata": {},
   "outputs": [
    {
     "name": "stdout",
     "output_type": "stream",
     "text": [
      "Nhap ten: hoài\n",
      "hoai\n"
     ]
    }
   ],
   "source": [
    "ten = input(\"Nhap ten: \")\n",
    "final = ''\n",
    "\n",
    "\n",
    "for i in ten:\n",
    "    if i in 'aáàảãạâấầẩẫậăắằẳẵạ':\n",
    "        i = 'a'\n",
    "    elif i in 'iíìỉĩị':\n",
    "        i = 'i'\n",
    "    elif i in 'eéèẻẽẹêếềểễệ':\n",
    "        i = 'e'\n",
    "    elif i in 'uúùủũụưứừửữự':\n",
    "        i = 'u'\n",
    "    elif i in'oôơóòỏõọốồổỗộớờởỡợ':\n",
    "        i = 'o'\n",
    "    elif i in 'đ':\n",
    "        i = 'd'\n",
    "    else:\n",
    "        i = i\n",
    "    final += i\n",
    "print(final)\n",
    "    "
   ]
  }
 ],
 "metadata": {
  "kernelspec": {
   "display_name": "Python 3 (ipykernel)",
   "language": "python",
   "name": "python3"
  },
  "language_info": {
   "codemirror_mode": {
    "name": "ipython",
    "version": 3
   },
   "file_extension": ".py",
   "mimetype": "text/x-python",
   "name": "python",
   "nbconvert_exporter": "python",
   "pygments_lexer": "ipython3",
   "version": "3.9.7"
  }
 },
 "nbformat": 4,
 "nbformat_minor": 5
}
